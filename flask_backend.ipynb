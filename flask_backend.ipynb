{
  "nbformat": 4,
  "nbformat_minor": 0,
  "metadata": {
    "colab": {
      "provenance": [],
      "authorship_tag": "ABX9TyO6TdAqI/JO5f53A+Cn9hqN",
      "include_colab_link": true
    },
    "kernelspec": {
      "name": "python3",
      "display_name": "Python 3"
    },
    "language_info": {
      "name": "python"
    }
  },
  "cells": [
    {
      "cell_type": "markdown",
      "metadata": {
        "id": "view-in-github",
        "colab_type": "text"
      },
      "source": [
        "<a href=\"https://colab.research.google.com/github/shrankhalas/Mangonet-using-VGG16/blob/main/flask_backend.ipynb\" target=\"_parent\"><img src=\"https://colab.research.google.com/assets/colab-badge.svg\" alt=\"Open In Colab\"/></a>"
      ]
    },
    {
      "cell_type": "code",
      "source": [
        "from flask import Flask, render_template, request\n",
        "import tensorflow as tf\n",
        "from tensorflow.keras.preprocessing import image\n",
        "from tensorflow.keras.applications.vgg16 import preprocess_input\n",
        "import numpy as np\n",
        "import os\n",
        "\n",
        "app = Flask(__name__)\n",
        "model = tf.keras.models.load_model(\"model/mango_model.h5\")\n",
        "class_names = ['Fajri', 'Dosehri', 'Langra', 'Chaunsa (White)', 'Sindhri', 'Anwar Ratool',\n",
        "               'Chaunsa (Black)', 'Dataset', 'Chaunsa (Summer Bahisht)']\n",
        "\n",
        "@app.route('/')\n",
        "def home():\n",
        "    return render_template('index.html')\n",
        "\n",
        "@app.route('/predict', methods=['POST'])\n",
        "def predict():\n",
        "    if 'file' not in request.files:\n",
        "        return \"No file part\"\n",
        "\n",
        "    file = request.files['file']\n",
        "    if file.filename == '':\n",
        "        return \"No selected file\"\n",
        "\n",
        "    if file:\n",
        "        img_path = \"static/\" + file.filename\n",
        "        file.save(img_path)\n",
        "\n",
        "        img = image.load_img(img_path, target_size=(224, 224))\n",
        "        img_array = image.img_to_array(img)\n",
        "        img_array = np.expand_dims(img_array, axis=0)\n",
        "        img_array = preprocess_input(img_array)\n",
        "\n",
        "        prediction = model.predict(img_array)\n",
        "        predicted_class = class_names[np.argmax(prediction[0])]\n",
        "\n",
        "        return render_template('result.html', prediction=predicted_class, image_path=img_path)\n",
        "\n",
        "if __name__ == '__main__':\n",
        "    app.run(debug=True)\n"
      ],
      "metadata": {
        "id": "I1AtLvl49Fgq"
      },
      "execution_count": null,
      "outputs": []
    }
  ]
}